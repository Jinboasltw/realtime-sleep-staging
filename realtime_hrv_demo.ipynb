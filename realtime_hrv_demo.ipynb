{
 "cells": [
  {
   "cell_type": "markdown",
   "metadata": {},
   "source": [
    "Demo code for real-time staging using HRV \n",
    "\n",
    "(c)-2020 Neurobit Technologies Pte Ltd Singapore  \n",
    "https://www.neurobit.io  \n",
    "protected by copyright law and international treaties  \n",
    "Licensed under Neurobit End User License Agreement (EULA)  \n",
    "Strictly for academic, research and non-commercial use only  \n",
    "THE SOFTWARE IS PROVIDED \"AS IS\", WITHOUT WARRANTY OF ANY KIND, EXPRESS OR  \n",
    "IMPLIED, INCLUDING BUT NOT LIMITED TO THE WARRANTIES OF MERCHANTABILITY,  \n",
    "FITNESS FOR A PARTICULAR PURPOSE AND NONINFRINGEMENT. IN NO EVENT SHALL THE  \n",
    "AUTHORS OR COPYRIGHT HOLDERS BE LIABLE FOR ANY CLAIM, DAMAGES OR OTHER  \n",
    "LIABILITY, WHETHER IN AN ACTION OF CONTRACT, TORT OR OTHERWISE, ARISING FROM,  \n",
    "OUT OF OR IN CONNECTION WITH THE SOFTWARE OR THE USE OR OTHER DEALINGS IN  \n",
    "THE SOFTWARE.  "
   ]
  },
  {
   "cell_type": "code",
   "execution_count": 101,
   "metadata": {},
   "outputs": [],
   "source": [
    "import pyedflib\n",
    "import numpy as np\n",
    "from requests import post\n",
    "from pyndf import create_ndf_from_ecg\n",
    "from sklearn.metrics import cohen_kappa_score"
   ]
  },
  {
   "cell_type": "code",
   "execution_count": 102,
   "metadata": {},
   "outputs": [],
   "source": [
    "# Login information for Z3Score\n",
    "# Note that real-time module is only available to select customers\n",
    "# Always use https instead of http to ensure security\n",
    "server_url = 'https://z3score.com/api/v4'\n",
    "# Do not have a key? Request one from contact@neurobit.io\n",
    "email = 'emailid'\n",
    "key = r'yourKey'"
   ]
  },
  {
   "cell_type": "code",
   "execution_count": 103,
   "metadata": {},
   "outputs": [
    {
     "output_type": "stream",
     "name": "stdout",
     "text": "Access token generated for real-time module...\nToken is valid for 16 hours only.\n"
    }
   ],
   "source": [
    "# You need an authorization token to access the real-time module\n",
    "# Use your login details to request it. The token auto expires after 16 hours\n",
    "# Log in is a slow process, authorization tokens are a fast way to allow access to services \n",
    "# Note: you need special previlages to access the real-time module\n",
    "try:\n",
    "    response = post(server_url+'/get-token', data={'email':email, 'key':key})\n",
    "except:\n",
    "    print(\"Error communicating with server\")\n",
    "    exit(0)\n",
    "\n",
    "if response.status_code != 200:\n",
    "    print(\"Error communicating with server\")\n",
    "    exit(0)\n",
    "\n",
    "data = response.json()\n",
    "token = data['token']\n",
    "\n",
    "if data['token'] == 0:\n",
    "    print(\"Could not generate access token\")\n",
    "    print(data['message'])\n",
    "    exit(0)\n",
    "\n",
    "print(\"Access token generated for real-time module...\")\n",
    "print(data['message'])"
   ]
  },
  {
   "cell_type": "code",
   "execution_count": 104,
   "metadata": {},
   "outputs": [
    {
     "output_type": "stream",
     "name": "stdout",
     "text": "Here are the channel labels:\n0. C3-M2\n1. C4-M1\n2. O1-M2\n3. O2-M1\n4. F3-M2\n5. F4-M1\n6. Chin1-Chin2\n7. EKG\n8. PG1-M2\n9. PG2-M1\n"
    }
   ],
   "source": [
    "path = 'sample.edf'\n",
    "edf_file = pyedflib.EdfReader(path)\n",
    "labels = edf_file.getSignalLabels()\n",
    "print(\"Here are the channel labels:\")\n",
    "for idx, label in enumerate(labels):\n",
    "    print('%d. %s' % (idx, label))"
   ]
  },
  {
   "cell_type": "code",
   "execution_count": 105,
   "metadata": {},
   "outputs": [],
   "source": [
    "# channel 7 is EKG\n",
    "fs = edf_file.getSampleFrequency(7)\n",
    "ECG = np.asarray(edf_file.readSignal(7))\n",
    "total_epochs = int(np.shape(ECG)[0]/fs/30)\n",
    "edf_file._close()"
   ]
  },
  {
   "cell_type": "code",
   "execution_count": 113,
   "metadata": {},
   "outputs": [],
   "source": [
    "# Lets Load the expert scores \n",
    "import csv\n",
    "with open('expert_scores.csv', 'rt') as f:\n",
    "    expert = sum([[int(x) for x in rec] for rec in csv.reader(f, delimiter=',')], [])\n",
    "\n",
    "expert = np.array(expert)\n",
    "# 9 is unscorable which we can assume wake\n",
    "expert[expert==9] = 0\n",
    "# N1 is light sleep \n",
    "expert[expert==1] = 2"
   ]
  },
  {
   "cell_type": "code",
   "execution_count": 118,
   "metadata": {},
   "outputs": [
    {
     "output_type": "stream",
     "name": "stdout",
     "text": "Predicted Stage: Wake, Confidence: 0.21, Expert Stage: Light\nPredicted Stage: Wake, Confidence: 2.20, Expert Stage: Light\nPredicted Stage: Light, Confidence: 0.60, Expert Stage: Light\nPredicted Stage: Light, Confidence: 0.47, Expert Stage: Light\nPredicted Stage: Light, Confidence: 0.37, Expert Stage: Light\nPredicted Stage: Light, Confidence: 0.49, Expert Stage: Light\nPredicted Stage: Light, Confidence: 0.78, Expert Stage: Light\nPredicted Stage: Light, Confidence: 1.12, Expert Stage: Light\nPredicted Stage: Deep, Confidence: 0.20, Expert Stage: Light\nPredicted Stage: Wake, Confidence: 1.20, Expert Stage: Wake\nPredicted Stage: Light, Confidence: 0.33, Expert Stage: Light\nPredicted Stage: Light, Confidence: 0.37, Expert Stage: Light\nPredicted Stage: Light, Confidence: 1.46, Expert Stage: Light\nPredicted Stage: Light, Confidence: 0.89, Expert Stage: Light\nPredicted Stage: Light, Confidence: 2.22, Expert Stage: Light\nPredicted Stage: Light, Confidence: 0.32, Expert Stage: Light\nPredicted Stage: Light, Confidence: 1.13, Expert Stage: Light\nPredicted Stage: Light, Confidence: 1.47, Expert Stage: Light\nPredicted Stage: Deep, Confidence: 0.52, Expert Stage: Light\nPredicted Stage: Deep, Confidence: 1.10, Expert Stage: Light\nPredicted Stage: Deep, Confidence: 0.95, Expert Stage: Light\nPredicted Stage: Deep, Confidence: 1.35, Expert Stage: Light\nPredicted Stage: Deep, Confidence: 1.18, Expert Stage: Light\nPredicted Stage: Deep, Confidence: 1.30, Expert Stage: Light\nPredicted Stage: Deep, Confidence: 1.98, Expert Stage: Light\nPredicted Stage: Deep, Confidence: 0.80, Expert Stage: Light\nPredicted Stage: Deep, Confidence: 1.53, Expert Stage: Light\nPredicted Stage: Deep, Confidence: 1.08, Expert Stage: Light\nPredicted Stage: Deep, Confidence: 0.76, Expert Stage: Light\nPredicted Stage: Deep, Confidence: 0.90, Expert Stage: Deep\nPredicted Stage: Deep, Confidence: 1.59, Expert Stage: Deep\nPredicted Stage: Deep, Confidence: 0.80, Expert Stage: Light\nPredicted Stage: Deep, Confidence: 1.22, Expert Stage: Light\nPredicted Stage: Deep, Confidence: 1.78, Expert Stage: Deep\nPredicted Stage: Deep, Confidence: 2.04, Expert Stage: Deep\nPredicted Stage: Deep, Confidence: 2.26, Expert Stage: Deep\nPredicted Stage: Deep, Confidence: 5.73, Expert Stage: Deep\nPredicted Stage: Deep, Confidence: 4.42, Expert Stage: Deep\nPredicted Stage: Deep, Confidence: 3.14, Expert Stage: Deep\nPredicted Stage: Deep, Confidence: 5.20, Expert Stage: Deep\nPredicted Stage: Deep, Confidence: 5.29, Expert Stage: Deep\nPredicted Stage: Deep, Confidence: 4.08, Expert Stage: Deep\nPredicted Stage: Deep, Confidence: 4.08, Expert Stage: Deep\nPredicted Stage: Deep, Confidence: 4.70, Expert Stage: Deep\nPredicted Stage: Deep, Confidence: 3.76, Expert Stage: Deep\nPredicted Stage: Deep, Confidence: 4.75, Expert Stage: Deep\nPredicted Stage: Deep, Confidence: 6.02, Expert Stage: Deep\nPredicted Stage: Deep, Confidence: 6.89, Expert Stage: Deep\nPredicted Stage: Deep, Confidence: 7.86, Expert Stage: Deep\nPredicted Stage: Deep, Confidence: 9.53, Expert Stage: Deep\nPredicted Stage: Deep, Confidence: 8.85, Expert Stage: Deep\nPredicted Stage: Deep, Confidence: 10.00, Expert Stage: Deep\nPredicted Stage: Deep, Confidence: 10.00, Expert Stage: Deep\nPredicted Stage: Deep, Confidence: 9.68, Expert Stage: Deep\nPredicted Stage: Deep, Confidence: 10.00, Expert Stage: Deep\nPredicted Stage: Deep, Confidence: 9.84, Expert Stage: Deep\nPredicted Stage: Deep, Confidence: 10.00, Expert Stage: Deep\nPredicted Stage: Deep, Confidence: 9.67, Expert Stage: Deep\nPredicted Stage: Deep, Confidence: 10.00, Expert Stage: Deep\nPredicted Stage: Deep, Confidence: 10.00, Expert Stage: Deep\nPredicted Stage: Deep, Confidence: 10.00, Expert Stage: Deep\nPredicted Stage: Deep, Confidence: 10.00, Expert Stage: Deep\nPredicted Stage: Deep, Confidence: 10.00, Expert Stage: Deep\nPredicted Stage: Deep, Confidence: 10.00, Expert Stage: Deep\nPredicted Stage: Deep, Confidence: 10.00, Expert Stage: Deep\nPredicted Stage: Deep, Confidence: 10.00, Expert Stage: Deep\nPredicted Stage: Deep, Confidence: 10.00, Expert Stage: Deep\nPredicted Stage: Deep, Confidence: 10.00, Expert Stage: Deep\nPredicted Stage: Deep, Confidence: 10.00, Expert Stage: Deep\nPredicted Stage: Deep, Confidence: 10.00, Expert Stage: Deep\nPredicted Stage: Deep, Confidence: 10.00, Expert Stage: Deep\nPredicted Stage: Deep, Confidence: 10.00, Expert Stage: Deep\nPredicted Stage: Deep, Confidence: 10.00, Expert Stage: Deep\nPredicted Stage: Deep, Confidence: 10.00, Expert Stage: Deep\nPredicted Stage: Deep, Confidence: 10.00, Expert Stage: Deep\nPredicted Stage: Deep, Confidence: 10.00, Expert Stage: Deep\nPredicted Stage: Deep, Confidence: 10.00, Expert Stage: Deep\nPredicted Stage: Deep, Confidence: 10.00, Expert Stage: Deep\nPredicted Stage: Deep, Confidence: 10.00, Expert Stage: Deep\nPredicted Stage: Deep, Confidence: 10.00, Expert Stage: Deep\nPredicted Stage: Deep, Confidence: 10.00, Expert Stage: Deep\nPredicted Stage: Deep, Confidence: 10.00, Expert Stage: Deep\nPredicted Stage: Deep, Confidence: 10.00, Expert Stage: Deep\nPredicted Stage: Deep, Confidence: 10.00, Expert Stage: Deep\nPredicted Stage: Deep, Confidence: 10.00, Expert Stage: Deep\nPredicted Stage: Deep, Confidence: 10.00, Expert Stage: Deep\nPredicted Stage: Deep, Confidence: 10.00, Expert Stage: Deep\nPredicted Stage: Deep, Confidence: 10.00, Expert Stage: Deep\nPredicted Stage: Deep, Confidence: 10.00, Expert Stage: Deep\nPredicted Stage: Deep, Confidence: 10.00, Expert Stage: Deep\nPredicted Stage: Deep, Confidence: 10.00, Expert Stage: Deep\nPredicted Stage: Deep, Confidence: 10.00, Expert Stage: Deep\nPredicted Stage: Deep, Confidence: 10.00, Expert Stage: Deep\nPredicted Stage: Deep, Confidence: 10.00, Expert Stage: Deep\nPredicted Stage: Deep, Confidence: 10.00, Expert Stage: Deep\nPredicted Stage: Deep, Confidence: 10.00, Expert Stage: Deep\nPredicted Stage: Deep, Confidence: 10.00, Expert Stage: Deep\nPredicted Stage: Deep, Confidence: 10.00, Expert Stage: Deep\nPredicted Stage: Deep, Confidence: 10.00, Expert Stage: Deep\nPredicted Stage: Deep, Confidence: 10.00, Expert Stage: Deep\nPredicted Stage: Deep, Confidence: 10.00, Expert Stage: Deep\nPredicted Stage: Deep, Confidence: 10.00, Expert Stage: Deep\nPredicted Stage: Deep, Confidence: 10.00, Expert Stage: Deep\nPredicted Stage: Deep, Confidence: 10.00, Expert Stage: Deep\nPredicted Stage: Deep, Confidence: 10.00, Expert Stage: Deep\nPredicted Stage: Deep, Confidence: 10.00, Expert Stage: Deep\nPredicted Stage: Deep, Confidence: 10.00, Expert Stage: Deep\nPredicted Stage: Deep, Confidence: 10.00, Expert Stage: Deep\nPredicted Stage: Deep, Confidence: 10.00, Expert Stage: Deep\nPredicted Stage: Deep, Confidence: 10.00, Expert Stage: Deep\nPredicted Stage: Deep, Confidence: 10.00, Expert Stage: Deep\nPredicted Stage: Deep, Confidence: 10.00, Expert Stage: Deep\nPredicted Stage: Deep, Confidence: 10.00, Expert Stage: Deep\nPredicted Stage: Deep, Confidence: 10.00, Expert Stage: Deep\nPredicted Stage: Deep, Confidence: 10.00, Expert Stage: Deep\nPredicted Stage: Deep, Confidence: 10.00, Expert Stage: Deep\nPredicted Stage: Deep, Confidence: 10.00, Expert Stage: Deep\nPredicted Stage: Deep, Confidence: 10.00, Expert Stage: Deep\nPredicted Stage: Deep, Confidence: 2.20, Expert Stage: Deep\nPredicted Stage: Deep, Confidence: 0.64, Expert Stage: Deep\nPredicted Stage: Wake, Confidence: 0.24, Expert Stage: Deep\nPredicted Stage: Light, Confidence: 0.52, Expert Stage: Deep\nPredicted Stage: Wake, Confidence: 0.58, Expert Stage: Deep\nPredicted Stage: Light, Confidence: 1.53, Expert Stage: Deep\nPredicted Stage: Wake, Confidence: 0.17, Expert Stage: Deep\nPredicted Stage: Light, Confidence: 1.38, Expert Stage: Deep\nPredicted Stage: Light, Confidence: 2.71, Expert Stage: Deep\nPredicted Stage: Light, Confidence: 5.24, Expert Stage: Deep\nPredicted Stage: Light, Confidence: 5.05, Expert Stage: Deep\nPredicted Stage: Light, Confidence: 2.89, Expert Stage: Light\nPredicted Stage: Light, Confidence: 1.74, Expert Stage: Light\nPredicted Stage: Light, Confidence: 2.27, Expert Stage: Light\nPredicted Stage: Light, Confidence: 3.08, Expert Stage: Light\nPredicted Stage: Light, Confidence: 2.28, Expert Stage: Light\nPredicted Stage: Light, Confidence: 1.58, Expert Stage: REM\nPredicted Stage: Light, Confidence: 1.13, Expert Stage: REM\nPredicted Stage: Light, Confidence: 1.37, Expert Stage: REM\nPredicted Stage: Light, Confidence: 1.01, Expert Stage: Light\nPredicted Stage: Wake, Confidence: 0.12, Expert Stage: Wake\nPredicted Stage: Light, Confidence: 3.20, Expert Stage: REM\nPredicted Stage: Light, Confidence: 3.10, Expert Stage: REM\nPredicted Stage: REM, Confidence: 0.67, Expert Stage: REM\nPredicted Stage: REM, Confidence: 0.07, Expert Stage: REM\nPredicted Stage: Light, Confidence: 0.99, Expert Stage: REM\nPredicted Stage: REM, Confidence: 0.12, Expert Stage: REM\nPredicted Stage: REM, Confidence: 2.61, Expert Stage: REM\nPredicted Stage: REM, Confidence: 2.09, Expert Stage: REM\nPredicted Stage: REM, Confidence: 2.31, Expert Stage: REM\nPredicted Stage: REM, Confidence: 3.06, Expert Stage: REM\nPredicted Stage: REM, Confidence: 0.77, Expert Stage: REM\nPredicted Stage: REM, Confidence: 1.14, Expert Stage: REM\nPredicted Stage: Wake, Confidence: 10.00, Expert Stage: Wake\nPredicted Stage: Wake, Confidence: 1.04, Expert Stage: REM\nPredicted Stage: Wake, Confidence: 0.05, Expert Stage: REM\nPredicted Stage: Wake, Confidence: 0.03, Expert Stage: REM\nPredicted Stage: Light, Confidence: 1.02, Expert Stage: REM\nPredicted Stage: Light, Confidence: 0.59, Expert Stage: REM\nPredicted Stage: Light, Confidence: 0.52, Expert Stage: REM\nPredicted Stage: Light, Confidence: 0.55, Expert Stage: REM\nPredicted Stage: REM, Confidence: 0.68, Expert Stage: REM\nPredicted Stage: REM, Confidence: 1.12, Expert Stage: REM\nPredicted Stage: REM, Confidence: 1.56, Expert Stage: REM\nPredicted Stage: REM, Confidence: 0.41, Expert Stage: REM\nPredicted Stage: REM, Confidence: 0.41, Expert Stage: REM\nPredicted Stage: REM, Confidence: 0.55, Expert Stage: REM\nPredicted Stage: Light, Confidence: 0.69, Expert Stage: REM\nPredicted Stage: Light, Confidence: 2.17, Expert Stage: REM\nPredicted Stage: Light, Confidence: 3.28, Expert Stage: REM\nPredicted Stage: Light, Confidence: 1.03, Expert Stage: REM\nPredicted Stage: Light, Confidence: 5.76, Expert Stage: REM\nPredicted Stage: Light, Confidence: 1.59, Expert Stage: REM\nPredicted Stage: Light, Confidence: 1.81, Expert Stage: Wake\nPredicted Stage: Wake, Confidence: 2.15, Expert Stage: Wake\nPredicted Stage: Wake, Confidence: 0.12, Expert Stage: Wake\nPredicted Stage: Light, Confidence: 2.90, Expert Stage: Wake\nPredicted Stage: Light, Confidence: 2.23, Expert Stage: Wake\nPredicted Stage: Light, Confidence: 1.28, Expert Stage: Wake\nPredicted Stage: Light, Confidence: 0.55, Expert Stage: Wake\n"
    }
   ],
   "source": [
    "stage_labels = {\n",
    "    0:'Wake',\n",
    "    2:'Light',\n",
    "    3:'Deep',\n",
    "    5:'REM'\n",
    "}\n",
    "# you need 9 epochs or 4.5 minutes of data to access the realtime staging\n",
    "for i in range(8,total_epochs):\n",
    "    stream = create_ndf_from_ecg(ECG[(i-8)*30*fs:(i+1)*30*fs], fs, realtime=True)\n",
    "    files = {'file': ('stream.ndf', stream)}\n",
    "    response = post(server_url + '/realtime/hrv', files=files, data={'token':token})\n",
    "    response = response.json()\n",
    "    stage = response['message']\n",
    "    print('Predicted Stage: %s, Confidence: %0.2f, Expert Stage: %s' %(stage_labels[stage[0]], stage[1], stage_labels[expert[i]]))"
   ]
  }
 ],
 "metadata": {
  "language_info": {
   "codemirror_mode": {
    "name": "ipython",
    "version": 3
   },
   "file_extension": ".py",
   "mimetype": "text/x-python",
   "name": "python",
   "nbconvert_exporter": "python",
   "pygments_lexer": "ipython3",
   "version": "3.6.10-final"
  },
  "orig_nbformat": 2,
  "kernelspec": {
   "name": "python361064bitdevenvvenvcd022a983f794dd1941c299f2f977cbf",
   "display_name": "Python 3.6.10 64-bit ('devenv': venv)"
  }
 },
 "nbformat": 4,
 "nbformat_minor": 2
}